{
 "cells": [
  {
   "cell_type": "code",
   "execution_count": null,
   "metadata": {
    "_cell_guid": "b1076dfc-b9ad-4769-8c92-a6c4dae69d19",
    "_uuid": "8f2839f25d086af736a60e9eeb907d3b93b6e0e5"
   },
   "outputs": [],
   "source": [
    "import numpy as np # linear algebra\n",
    "import pandas as pd # data processing, CSV file I/O (e.g. pd.read_csv)\n",
    "\n",
    "# Input data files are available in the \"../input/\" directory.\n",
    "# For example, running this (by clicking run or pressing Shift+Enter) will list the files in the input directory\n",
    "\n",
    "import os\n",
    "print(os.listdir(\"../input\"))\n",
    "\n",
    "# Any results you write to the current directory are saved as output."
   ]
  },
  {
   "cell_type": "code",
   "execution_count": null,
   "metadata": {
    "_uuid": "2e9ac13e423da69bedf864862d55fb4d10f37e38",
    "collapsed": true
   },
   "outputs": [],
   "source": [
    "from sklearn.feature_extraction.text import TfidfVectorizer\n",
    "from sklearn.metrics.pairwise import linear_kernel"
   ]
  },
  {
   "cell_type": "markdown",
   "metadata": {
    "_uuid": "eebd18eebfeaecbba8eb1fff9097f88e4ec41dbf"
   },
   "source": [
    "**Load the data from csv files**"
   ]
  },
  {
   "cell_type": "code",
   "execution_count": null,
   "metadata": {
    "_cell_guid": "79c7e3d0-c299-4dcb-8224-4455121ee9b0",
    "_uuid": "d629ff2d2480ee46fbb7e2d37f6b5fab8052498a"
   },
   "outputs": [],
   "source": [
    "books = pd.read_csv('../input/books.csv', encoding = \"ISO-8859-1\")\n",
    "books.head()"
   ]
  },
  {
   "cell_type": "code",
   "execution_count": null,
   "metadata": {
    "_uuid": "a5914fa1a269f4669acca59627519d6823bdc95e"
   },
   "outputs": [],
   "source": [
    "books.shape"
   ]
  },
  {
   "cell_type": "code",
   "execution_count": null,
   "metadata": {
    "_uuid": "12bff06b9a6f334613a4527be005db1a284cce2e"
   },
   "outputs": [],
   "source": [
    "books.columns"
   ]
  },
  {
   "cell_type": "code",
   "execution_count": null,
   "metadata": {
    "_uuid": "d1148a047534df6e5eb496d55e304cafb90cab50"
   },
   "outputs": [],
   "source": [
    "ratings = pd.read_csv('../input/ratings.csv', encoding = \"ISO-8859-1\")\n",
    "ratings.head()"
   ]
  },
  {
   "cell_type": "code",
   "execution_count": null,
   "metadata": {
    "_uuid": "59c5bd6609816c8fc754df003bb2780e075b780a"
   },
   "outputs": [],
   "source": [
    "book_tags = pd.read_csv('../input/book_tags.csv', encoding = \"ISO-8859-1\")\n",
    "book_tags.head()"
   ]
  },
  {
   "cell_type": "code",
   "execution_count": null,
   "metadata": {
    "_uuid": "53a26c93e3399c371455df622aafc23ae6c11c63"
   },
   "outputs": [],
   "source": [
    "tags = pd.read_csv('../input/tags.csv')\n",
    "tags.tail()"
   ]
  },
  {
   "cell_type": "code",
   "execution_count": null,
   "metadata": {
    "_uuid": "4811099e895049f4f2ef8a73331e9380a614896d"
   },
   "outputs": [],
   "source": [
    "tags_join_DF = pd.merge(book_tags, tags, left_on='tag_id', right_on='tag_id', how='inner')\n",
    "tags_join_DF.head()"
   ]
  },
  {
   "cell_type": "code",
   "execution_count": null,
   "metadata": {
    "_uuid": "ac13006eb1de50146627d06d29b13922deb9593d"
   },
   "outputs": [],
   "source": [
    "to_read = pd.read_csv('../input/to_read.csv')\n",
    "to_read.head()"
   ]
  },
  {
   "cell_type": "markdown",
   "metadata": {
    "_uuid": "9a14aba006c2346349d31ed49de016c95b27ed5a"
   },
   "source": [
    "**TfidfVectorizer** function from scikit-learn, which transforms** text to feature vectors** that can be used as input to estimator.\n",
    "\n",
    " **Cosine Similarity** to calculate a numeric value that denotes the similarity between two books."
   ]
  },
  {
   "cell_type": "code",
   "execution_count": null,
   "metadata": {
    "_uuid": "4decad615acd65ccb86456e50cc9baffbcaa45ab",
    "collapsed": true
   },
   "outputs": [],
   "source": [
    "tf = TfidfVectorizer(analyzer='word',ngram_range=(1, 2),min_df=0, stop_words='english')\n",
    "tfidf_matrix = tf.fit_transform(books['authors'])\n",
    "cosine_sim = linear_kernel(tfidf_matrix, tfidf_matrix)"
   ]
  },
  {
   "cell_type": "code",
   "execution_count": null,
   "metadata": {
    "_uuid": "867e5b7eeb6c20c5f54fa55fb3cd25c2186c5d91"
   },
   "outputs": [],
   "source": [
    "cosine_sim"
   ]
  },
  {
   "cell_type": "markdown",
   "metadata": {
    "_uuid": "119038c0f106bc09de5b17eb83f9cee9097b1725"
   },
   "source": [
    "A function that returns the 20 most similar books based on the cosine similarity score."
   ]
  },
  {
   "cell_type": "code",
   "execution_count": null,
   "metadata": {
    "_uuid": "14ade9a43635162ee6f96b7964e70eed56dc8bc9",
    "collapsed": true
   },
   "outputs": [],
   "source": [
    "# Build a 1-dimensional array with book titles\n",
    "titles = books['title']\n",
    "indices = pd.Series(books.index, index=books['title'])\n",
    "\n",
    "# Function that get book recommendations based on the cosine similarity score of book authors\n",
    "def authors_recommendations(title):\n",
    "    idx = indices[title]\n",
    "    sim_scores = list(enumerate(cosine_sim[idx]))\n",
    "    sim_scores = sorted(sim_scores, key=lambda x: x[1], reverse=True)\n",
    "    sim_scores = sim_scores[1:21]\n",
    "    book_indices = [i[0] for i in sim_scores]\n",
    "    return titles.iloc[book_indices]"
   ]
  },
  {
   "cell_type": "code",
   "execution_count": null,
   "metadata": {
    "_uuid": "134b5f186167ce531d0a6b0c0408bd6ce93e5a6b"
   },
   "outputs": [],
   "source": [
    "authors_recommendations('The Hobbit').head(20)"
   ]
  },
  {
   "cell_type": "markdown",
   "metadata": {
    "_uuid": "72118d31df527d189b45f2841f9a668b9ac89c8e"
   },
   "source": [
    "Recommend books using the tags provided to the books."
   ]
  },
  {
   "cell_type": "code",
   "execution_count": null,
   "metadata": {
    "_uuid": "95a3969f47580cbdaf0232d6a17a301637f11499",
    "collapsed": true
   },
   "outputs": [],
   "source": [
    "books_with_tags = pd.merge(books, tags_join_DF, left_on='book_id', right_on='goodreads_book_id', how='inner')"
   ]
  },
  {
   "cell_type": "code",
   "execution_count": null,
   "metadata": {
    "_uuid": "ac626811d5b26936415d8e3f0c52de79f286c32c",
    "collapsed": true
   },
   "outputs": [],
   "source": [
    "# books_with_tags[(books_with_tags.goodreads_book_id==18710190)]['tag_name']"
   ]
  },
  {
   "cell_type": "code",
   "execution_count": null,
   "metadata": {
    "_uuid": "a40c1965e6a7c462b0f174bab8b7e8f7ed58720d",
    "collapsed": true
   },
   "outputs": [],
   "source": [
    "tf1 = TfidfVectorizer(analyzer='word',ngram_range=(1, 2),min_df=0, stop_words='english')\n",
    "tfidf_matrix1 = tf1.fit_transform(books_with_tags['tag_name'].head(10000))\n",
    "cosine_sim1 = linear_kernel(tfidf_matrix1, tfidf_matrix1)"
   ]
  },
  {
   "cell_type": "code",
   "execution_count": null,
   "metadata": {
    "_uuid": "7abac17adf71b12f719ec2712e8ddadd52aa0f22"
   },
   "outputs": [],
   "source": [
    "cosine_sim1"
   ]
  },
  {
   "cell_type": "code",
   "execution_count": null,
   "metadata": {
    "_uuid": "762f07405cb383220115ca08380c86bd60ad9786",
    "collapsed": true
   },
   "outputs": [],
   "source": [
    "# Build a 1-dimensional array with book titles\n",
    "titles1 = books['title']\n",
    "indices1 = pd.Series(books.index, index=books['title'])\n",
    "\n",
    "# Function that get book recommendations based on the cosine similarity score of books tags\n",
    "def tags_recommendations(title):\n",
    "    idx = indices1[title]\n",
    "    sim_scores = list(enumerate(cosine_sim1[idx]))\n",
    "    sim_scores = sorted(sim_scores, key=lambda x: x[1], reverse=True)\n",
    "    sim_scores = sim_scores[1:21]\n",
    "    book_indices = [i[0] for i in sim_scores]\n",
    "    return titles.iloc[book_indices]"
   ]
  },
  {
   "cell_type": "code",
   "execution_count": null,
   "metadata": {
    "_uuid": "d5fbbee52f7f7dd017632eaaaf479002cf1a6b67"
   },
   "outputs": [],
   "source": [
    "tags_recommendations('The Hobbit').head(20)"
   ]
  },
  {
   "cell_type": "markdown",
   "metadata": {
    "_uuid": "499064179a923f305ee863dbaf6b06ad60754fa0"
   },
   "source": [
    "Recommendation of books using the authors and tags attributes for better results.\n",
    "Creating corpus of features and calculating the TF-IDF on the corpus of attributes for gettings better recommendations."
   ]
  },
  {
   "cell_type": "code",
   "execution_count": null,
   "metadata": {
    "_uuid": "5a2ca41e7db57a31b3a84015fdc39afa5117f84a"
   },
   "outputs": [],
   "source": [
    "temp_df = books_with_tags.groupby('book_id')['tag_name'].apply(' '.join).reset_index()\n",
    "temp_df.head()"
   ]
  },
  {
   "cell_type": "code",
   "execution_count": null,
   "metadata": {
    "_uuid": "a0d556517f49f52615efc43f112acb26029e88e6",
    "collapsed": true
   },
   "outputs": [],
   "source": [
    "books = pd.merge(books, temp_df, left_on='book_id', right_on='book_id', how='inner')"
   ]
  },
  {
   "cell_type": "code",
   "execution_count": null,
   "metadata": {
    "_uuid": "f2b19179486ee87a19febde895246009bba4c7fa",
    "scrolled": true
   },
   "outputs": [],
   "source": [
    "books.head()"
   ]
  },
  {
   "cell_type": "code",
   "execution_count": null,
   "metadata": {
    "_uuid": "f2255f1d913254d14960d29283c90da8f210f9e0",
    "collapsed": true
   },
   "outputs": [],
   "source": [
    "books['corpus'] = (pd.Series(books[['authors', 'tag_name']]\n",
    "                .fillna('')\n",
    "                .values.tolist()\n",
    "                ).str.join(' '))"
   ]
  },
  {
   "cell_type": "code",
   "execution_count": null,
   "metadata": {
    "_uuid": "a2d9bca57506d2b300bc4afba465d822da91e98f"
   },
   "outputs": [],
   "source": [
    "tf_corpus = TfidfVectorizer(analyzer='word',ngram_range=(1, 2),min_df=0, stop_words='english')\n",
    "tfidf_matrix_corpus = tf_corpus.fit_transform(books['corpus'])\n",
    "cosine_sim_corpus = linear_kernel(tfidf_matrix_corpus, tfidf_matrix_corpus)\n",
    "\n",
    "# Build a 1-dimensional array with book titles\n",
    "titles = books['title']\n",
    "indices = pd.Series(books.index, index=books['title'])\n",
    "\n",
    "# Function that get book recommendations based on the cosine similarity score of books tags\n",
    "def corpus_recommendations(title):\n",
    "    idx = indices1[title]\n",
    "    sim_scores = list(enumerate(cosine_sim_corpus[idx]))\n",
    "    sim_scores = sorted(sim_scores, key=lambda x: x[1], reverse=True)\n",
    "    sim_scores = sim_scores[1:21]\n",
    "    book_indices = [i[0] for i in sim_scores]\n",
    "    return titles.iloc[book_indices]\n",
    "\n",
    "corpus_recommendations(\"The Hobbit\")"
   ]
  },
  {
   "cell_type": "code",
   "execution_count": null,
   "metadata": {
    "_uuid": "14711047f8055966c42b16bb5681d1cec009a70e"
   },
   "outputs": [],
   "source": [
    "corpus_recommendations(\"Twilight (Twilight, #1)\")"
   ]
  },
  {
   "cell_type": "code",
   "execution_count": null,
   "metadata": {
    "_uuid": "f5c00defc901ef171a7a94d76c8461bb604b89da"
   },
   "outputs": [],
   "source": [
    "corpus_recommendations(\"Romeo and Juliet\")"
   ]
  },
  {
   "cell_type": "code",
   "execution_count": null,
   "metadata": {
    "_uuid": "89aa6ab13491bd912db6dbebf3f2cf407488799b",
    "collapsed": true
   },
   "outputs": [],
   "source": []
  }
 ],
 "metadata": {
  "kernelspec": {
   "display_name": "Python 3",
   "language": "python",
   "name": "python3"
  },
  "language_info": {
   "codemirror_mode": {
    "name": "ipython",
    "version": 3
   },
   "file_extension": ".py",
   "mimetype": "text/x-python",
   "name": "python",
   "nbconvert_exporter": "python",
   "pygments_lexer": "ipython3",
   "version": "3.7.4"
  }
 },
 "nbformat": 4,
 "nbformat_minor": 1
}
